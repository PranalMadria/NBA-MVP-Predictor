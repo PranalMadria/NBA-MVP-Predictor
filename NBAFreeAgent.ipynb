{
 "cells": [
  {
   "cell_type": "code",
   "execution_count": null,
   "metadata": {},
   "outputs": [
    {
     "ename": "Error",
     "evalue": "Activating Python 3.7.3 64-bit ('base': conda) to run Jupyter failed with Error: StdErr from ShellExec, /usr/local/bin/virtualenvwrapper.sh: line 230: /usr/bin/python3.6.5: No such file or directory\nvirtualenvwrapper.sh: There was a problem running the initialization hooks.\n\nIf Python could not import the module virtualenvwrapper.hook_loader,\ncheck that virtualenvwrapper has been installed for\nVIRTUALENVWRAPPER_PYTHON=/usr/bin/python3.6.5 and that PATH is\nset properly.\n.",
     "output_type": "error",
     "traceback": [
      "Error: Activating Python 3.7.3 64-bit ('base': conda) to run Jupyter failed with Error: StdErr from ShellExec, /usr/local/bin/virtualenvwrapper.sh: line 230: /usr/bin/python3.6.5: No such file or directory",
      "virtualenvwrapper.sh: There was a problem running the initialization hooks.",
      "If Python could not import the module virtualenvwrapper.hook_loader,",
      "check that virtualenvwrapper has been installed for",
      "VIRTUALENVWRAPPER_PYTHON=/usr/bin/python3.6.5 and that PATH is",
      "set properly.",
      ".",
      "at A.checkUsable (/Users/pranal/.vscode/extensions/ms-python.python-2020.2.64397/out/client/extension.js:1:794715)"
     ]
    }
   ],
   "source": [
    "import scikit-learn as scikitsafasdfsd"
   ]
  },
  {
   "cell_type": "code",
   "execution_count": null,
   "metadata": {},
   "outputs": [],
   "source": []
  },
  {
   "cell_type": "code",
   "execution_count": null,
   "metadata": {},
   "outputs": [],
   "source": []
  }
 ],
 "metadata": {
  "kernelspec": {
   "display_name": "Python 3",
   "language": "python",
   "name": "python3"
  },
  "language_info": {
   "codemirror_mode": {
    "name": "ipython",
    "version": 3
   },
   "file_extension": ".py",
   "mimetype": "text/x-python",
   "name": "python",
   "nbconvert_exporter": "python",
   "pygments_lexer": "ipython3",
   "version": "3.7.3"
  }
 },
 "nbformat": 4,
 "nbformat_minor": 2
}
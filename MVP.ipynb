{
 "cells": [
  {
   "cell_type": "code",
   "execution_count": 61,
   "metadata": {
    "scrolled": false
   },
   "outputs": [],
   "source": [
    "import pandas as pd\n",
    "pd.set_option('display.max_columns', None)\n",
    "import ssl\n",
    "ssl._create_default_https_context = ssl._create_unverified_context\n",
    "appended_data = []\n",
    "for year in range(1985, 2020):\n",
    "    result = pd.DataFrame()\n",
    "    url = 'https://www.basketball-reference.com/awards/awards_{}.html'.format(year)\n",
    "    url2 = 'https://www.basketball-reference.com/leagues/NBA_{}_per_game.html'.format(year)\n",
    "    url3 = 'https://www.basketball-reference.com/leagues/NBA_{}_advanced.html'.format(year)\n",
    "    #Extract data from first url\n",
    "    temp = pd.read_html(url, header=[1])\n",
    "    temp[0].dropna(axis=1,inplace=True)\n",
    "    temp = temp[0][0:10]\n",
    "    temp = temp.drop('Rank', 1)\n",
    "    temp.insert(1, 'Year', year)\n",
    "    temp.insert(2, 'MVP', [1,0,0,0,0,0,0,0,0,0])\n",
    "    #Extract data from second url\n",
    "    temp2 = pd.read_html(url2)\n",
    "    temp2 = temp2[0].dropna(axis=1)\n",
    "    temp2['Player'] = temp2['Player'].str.replace('*','')\n",
    "    result = temp.merge(temp2, how='inner', on=['Player'])\n",
    "    #Extract data from third url\n",
    "    temp3 = pd.read_html(url3)\n",
    "    temp3 = temp3[0].dropna(axis=1)\n",
    "    temp3['Player'] = temp3['Player'].str.replace('*','')\n",
    "    result = result.merge(temp3, how='inner', on=['Player'])\n",
    "    #add to list of data\n",
    "    appended_data.append(result)\n",
    "df = pd.concat(appended_data)\n",
    "df.to_csv('csv/historical_mvp_data.csv')"
   ]
  },
  {
   "cell_type": "markdown",
   "metadata": {},
   "source": []
  },
  {
   "cell_type": "code",
   "execution_count": 2,
   "metadata": {},
   "outputs": [],
   "source": [
    "# from urllib.request import urlopen\n",
    "# from bs4 import BeautifulSoup\n",
    "# import pandas as pd\n",
    "\n",
    "# # NBA season we will be analyzing\n",
    "# year = 1985\n",
    "# # URL page we will scraping (see image above)\n",
    "# url = 'https://www.basketball-reference.com/awards/awards_{}.html'.format(year)\n",
    "# html = urlopen(url)\n",
    "# soup = BeautifulSoup(html)\n",
    "\n",
    "# # use findALL() to get the column headers\n",
    "# soup.findAll('tr', limit=2)# use getText()to extract the text we need into a list\n",
    "# headers = [th.getText() for th in soup.findAll('tr', limit=2)[0].findAll('th')]# exclude the first column as we will not need the ranking order from Basketball Reference for the analysis\n",
    "# headers = headers[1:]\n",
    "# headers\n",
    "\n",
    "# # # avoid the first header row\n",
    "# # rows = soup.findAll('tr')[1:]\n",
    "# # player_stats = [[td.getText() for td in rows[i].findAll('td')]\n",
    "# #             for i in range(len(rows))]\n",
    "\n",
    "# # stats = pd.DataFrame(player_stats, columns = headers)\n",
    "# # stats.head(10)"
   ]
  },
  {
   "cell_type": "code",
   "execution_count": null,
   "metadata": {},
   "outputs": [],
   "source": []
  },
  {
   "cell_type": "code",
   "execution_count": null,
   "metadata": {},
   "outputs": [],
   "source": []
  },
  {
   "cell_type": "code",
   "execution_count": null,
   "metadata": {},
   "outputs": [],
   "source": []
  },
  {
   "cell_type": "code",
   "execution_count": null,
   "metadata": {},
   "outputs": [],
   "source": []
  }
 ],
 "metadata": {
  "kernelspec": {
   "display_name": "Python 3.8.3 64-bit ('venv': venv)",
   "language": "python",
   "name": "python38364bitvenvvenvdf8ac03e91414f69bbb3f0d4fb5e69fc"
  },
  "language_info": {
   "codemirror_mode": {
    "name": "ipython",
    "version": 3
   },
   "file_extension": ".py",
   "mimetype": "text/x-python",
   "name": "python",
   "nbconvert_exporter": "python",
   "pygments_lexer": "ipython3",
   "version": "3.8.3"
  }
 },
 "nbformat": 4,
 "nbformat_minor": 4
}

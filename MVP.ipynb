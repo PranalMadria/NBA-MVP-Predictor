{
 "cells": [
  {
   "cell_type": "code",
   "execution_count": 130,
   "metadata": {},
   "outputs": [],
   "source": [
    "import pandas as pd\n",
    "import ssl\n",
    "ssl._create_default_https_context = ssl._create_unverified_context\n",
    "appended_data = []\n",
    "for year in range(1985, 2020):\n",
    "    url = 'https://www.basketball-reference.com/awards/awards_{}.html'.format(year)\n",
    "    dfs = pd.read_html(url, header=[1])\n",
    "    temp = dfs[0][0:10]\n",
    "    temp = temp.drop('Rank', 1)\n",
    "    temp.insert(1, 'Year', year)\n",
    "    temp.insert(2, 'MVP', [1,0,0,0,0,0,0,0,0,0])\n",
    "    appended_data.append(temp)\n",
    "    #df = pd.concat([df.reset_index(drop=True),temp.reset_index(drop=True)], ignore_index=False, axis=0)\n",
    "df = pd.concat(appended_data)\n",
    "df.to_csv('csv/historical_mvp_data.csv')\n"
   ]
  },
  {
   "cell_type": "markdown",
   "metadata": {},
   "source": []
  },
  {
   "cell_type": "code",
   "execution_count": 37,
   "metadata": {},
   "outputs": [
    {
     "data": {
      "text/plain": [
       "['Voting', '', 'Per Game', 'Shooting', 'Advanced']"
      ]
     },
     "execution_count": 37,
     "metadata": {},
     "output_type": "execute_result"
    }
   ],
   "source": [
    "# from urllib.request import urlopen\n",
    "# from bs4 import BeautifulSoup\n",
    "# import pandas as pd\n",
    "\n",
    "# # NBA season we will be analyzing\n",
    "# year = 1985\n",
    "# # URL page we will scraping (see image above)\n",
    "# url = 'https://www.basketball-reference.com/awards/awards_{}.html'.format(year)\n",
    "# html = urlopen(url)\n",
    "# soup = BeautifulSoup(html)\n",
    "\n",
    "# # use findALL() to get the column headers\n",
    "# soup.findAll('tr', limit=2)# use getText()to extract the text we need into a list\n",
    "# headers = [th.getText() for th in soup.findAll('tr', limit=2)[0].findAll('th')]# exclude the first column as we will not need the ranking order from Basketball Reference for the analysis\n",
    "# headers = headers[1:]\n",
    "# headers\n",
    "\n",
    "# # # avoid the first header row\n",
    "# # rows = soup.findAll('tr')[1:]\n",
    "# # player_stats = [[td.getText() for td in rows[i].findAll('td')]\n",
    "# #             for i in range(len(rows))]\n",
    "\n",
    "# # stats = pd.DataFrame(player_stats, columns = headers)\n",
    "# # stats.head(10)"
   ]
  },
  {
   "cell_type": "code",
   "execution_count": null,
   "metadata": {},
   "outputs": [],
   "source": []
  }
 ],
 "metadata": {
  "kernelspec": {
   "display_name": "Python 3.7.4 64-bit",
   "language": "python",
   "name": "python37464bit648efa31c46c4c48a91bb723a20a4bc3"
  },
  "language_info": {
   "codemirror_mode": {
    "name": "ipython",
    "version": 3
   },
   "file_extension": ".py",
   "mimetype": "text/x-python",
   "name": "python",
   "nbconvert_exporter": "python",
   "pygments_lexer": "ipython3",
   "version": "3.7.4"
  }
 },
 "nbformat": 4,
 "nbformat_minor": 4
}

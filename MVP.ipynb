{
 "cells": [
  {
   "cell_type": "code",
   "execution_count": 358,
   "metadata": {
    "scrolled": false
   },
   "outputs": [],
   "source": [
    "import pandas as pd\n",
    "import numpy as np\n",
    "pd.set_option('display.max_columns', None)\n",
    "import ssl\n",
    "ssl._create_default_https_context = ssl._create_unverified_context\n",
    "appended_data = []\n",
    "for year in range(1985, 2020):\n",
    "    result = pd.DataFrame()\n",
    "    url = 'https://www.basketball-reference.com/awards/awards_{}.html'.format(year)\n",
    "    url2 = 'https://www.basketball-reference.com/leagues/NBA_{}_per_game.html'.format(year)\n",
    "    url3 = 'https://www.basketball-reference.com/leagues/NBA_{}_advanced.html'.format(year)\n",
    "    \n",
    "    \n",
    "    #**********************EXTRACT DATA FROM FIRST URL**********************\n",
    "    temp = pd.read_html(url, header=[1])\n",
    "    temp[0].dropna(axis=1,inplace=True)\n",
    "    temp = temp[0][0:10]\n",
    "    temp.insert(1, 'Year', year)\n",
    "    temp.insert(2, 'MVP', [1,0,0,0,0,0,0,0,0,0])\n",
    "    temp.columns = temp.columns.str.strip()\n",
    "    temp = temp.round(4)\n",
    "    #**********************EXTRACT DATA FROM SECOND URL**********************\n",
    "    temp2 = pd.read_html(url2)\n",
    "    temp2 = temp2[0].dropna(axis=1,how='all')\n",
    "    temp2['Player'] = temp2['Player'].str.replace('*','')\n",
    "    temp2.columns = temp2.columns.str.strip()\n",
    "    temp2 = temp2[temp2.Pos != 'Pos'] #get rid of random header rows\n",
    "    temp2 = temp2.round(4)\n",
    "    #Find intersecting columns\n",
    "    cols = list(np.intersect1d(temp.columns, temp2.columns))\n",
    "    #Remove cols temporarily that don't involve numbers because casting\n",
    "    #will add them back later when doing 'on = cols'\n",
    "    cols.remove('Player')\n",
    "    cols.remove('Tm')\n",
    "    #need to convert cols to float\n",
    "    temp[cols] = temp[cols].astype(float)\n",
    "    temp2[cols] = temp2[cols].astype(float) \n",
    "    \n",
    "    #add qualitative analysis back for on = within merge function\n",
    "    cols.append('Player')\n",
    "    cols.append('Tm')\n",
    "    \n",
    "    #MERGE TEMP AND TEMP2\n",
    "    result = temp.merge(temp2, how='inner', on=cols)\n",
    "    if (year == 1985):\n",
    "        result.to_csv('csv/TEMP1_2.csv')\n",
    "    #**********************EXTRACT DATA FROM THIRD URL**********************\n",
    "    temp3 = pd.read_html(url3)\n",
    "    temp3 = temp3[0].dropna(axis=1, how='all')\n",
    "    temp3 = temp3[temp3.Pos != 'Pos']\n",
    "    temp3['Player'] = temp3['Player'].str.replace('*','')\n",
    "    temp3 = temp3.drop('Rk', 1)\n",
    "    temp3.columns = temp3.columns.str.strip()\n",
    "    temp3 = temp3.rename(columns={\"MP\": \"TOT_MP\"})\n",
    "    temp3 = temp3.round(4)\n",
    "    #Find intersecting columns\n",
    "    cols = list(np.intersect1d(result.columns, temp3.columns))\n",
    "\n",
    "    #Remove cols temporarily that don't involve numbers because casting\n",
    "    #will add them back later when doing 'on = cols'\n",
    "    cols.remove('Player')\n",
    "    cols.remove('Tm')\n",
    "    cols.remove('Pos')\n",
    "    #need to convert cols to float\n",
    "    temp3[cols] = temp3[cols].astype(float) \n",
    "    temp3.to_csv('csv/temp3.csv')\n",
    "    #add qualitative analysis back for on = within merge function\n",
    "    cols.append('Player')\n",
    "    cols.append('Tm')\n",
    "    cols.append('Pos')\n",
    "    result = result.merge(temp3, how='inner', on=cols)\n",
    "    #add to list of data\n",
    "    appended_data.append(result)\n",
    "df = pd.concat(appended_data)\n",
    "#data frame complete"
   ]
  },
  {
   "cell_type": "code",
   "execution_count": 359,
   "metadata": {},
   "outputs": [],
   "source": [
    " saved_df = df #saves df from cell 1 into another df to prevent having to constantly run "
   ]
  },
  {
   "cell_type": "code",
   "execution_count": 362,
   "metadata": {},
   "outputs": [],
   "source": [
    "df = saved_df #move dataframe over "
   ]
  },
  {
   "cell_type": "markdown",
   "metadata": {},
   "source": [
    "df = saved_df"
   ]
  },
  {
   "cell_type": "code",
   "execution_count": 363,
   "metadata": {
    "scrolled": true
   },
   "outputs": [],
   "source": [
    "import requests\n",
    "import re\n",
    "from bs4 import BeautifulSoup\n",
    "\n",
    "\n",
    "df.count()\n",
    "df['PRE_ODDS'] = 0\n",
    "#This only works for [1985,2019]. For 2020, we will have to do something else and make a current csv to grab \n",
    "#data for games played to most recent date\n",
    "\n",
    "modify = df.reset_index(drop=True)\n",
    "modify.at[245, 'Tm'] = 'DEN'\n",
    "\n",
    "df = modify\n",
    "for i in range(len(df.index)):\n",
    "    team = df.iloc[i]['Tm']\n",
    "    year = df.iloc[i]['Year']\n",
    "    odds_url = \"https://www.basketball-reference.com/teams/{}/{}.html\".format(team,year)\n",
    "    #print(odds_url)\n",
    "    html = requests.get(odds_url).text\n",
    "    soup = BeautifulSoup(html, \"lxml\")\n",
    "    res = soup.find('a', {\"href\": \"/leagues/NBA_{}_preseason_odds.html\".format(year)} ).text\n",
    "    #df['PRE_ODDS'][i] = re.findall(r'\\d+', res)[0]\n",
    "    df.at[i, 'PRE_ODDS'] = re.findall(r'\\-?\\d+', res)[0]\n",
    "#display(df)\n",
    "df.to_csv('csv/historical_mvp_data.csv')"
   ]
  },
  {
   "cell_type": "code",
   "execution_count": null,
   "metadata": {
    "scrolled": false
   },
   "outputs": [],
   "source": []
  },
  {
   "cell_type": "code",
   "execution_count": 348,
   "metadata": {},
   "outputs": [],
   "source": [
    "df.to_csv('csv/historical_mvp_data.csv')"
   ]
  },
  {
   "cell_type": "code",
   "execution_count": null,
   "metadata": {},
   "outputs": [],
   "source": []
  },
  {
   "cell_type": "code",
   "execution_count": null,
   "metadata": {},
   "outputs": [],
   "source": []
  }
 ],
 "metadata": {
  "kernelspec": {
   "display_name": "Python 3.7.4 64-bit",
   "language": "python",
   "name": "python37464bit648efa31c46c4c48a91bb723a20a4bc3"
  },
  "language_info": {
   "codemirror_mode": {
    "name": "ipython",
    "version": 3
   },
   "file_extension": ".py",
   "mimetype": "text/x-python",
   "name": "python",
   "nbconvert_exporter": "python",
   "pygments_lexer": "ipython3",
   "version": "3.7.4"
  }
 },
 "nbformat": 4,
 "nbformat_minor": 4
}

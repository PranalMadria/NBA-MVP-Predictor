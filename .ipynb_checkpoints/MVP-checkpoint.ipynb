{
 "cells": [
  {
   "cell_type": "code",
   "execution_count": 2,
   "metadata": {
    "scrolled": false
   },
   "outputs": [],
   "source": [
    "import pandas as pd\n",
    "import numpy as np\n",
    "pd.set_option('display.max_columns', None)\n",
    "import ssl\n",
    "ssl._create_default_https_context = ssl._create_unverified_context\n",
    "appended_data = []\n",
    "for year in range(1985, 2020):\n",
    "    result = pd.DataFrame()\n",
    "    url = 'https://www.basketball-reference.com/awards/awards_{}.html'.format(year)\n",
    "    url2 = 'https://www.basketball-reference.com/leagues/NBA_{}_per_game.html'.format(year)\n",
    "    url3 = 'https://www.basketball-reference.com/leagues/NBA_{}_advanced.html'.format(year)\n",
    "    \n",
    "    \n",
    "    #**********************EXTRACT DATA FROM FIRST URL**********************\n",
    "    temp = pd.read_html(url, header=[1])\n",
    "    temp[0].dropna(axis=1,inplace=True)\n",
    "    temp = temp[0][0:10]\n",
    "    temp.insert(1, 'Year', year)\n",
    "    temp.insert(2, 'MVP', [1,0,0,0,0,0,0,0,0,0])\n",
    "    temp.columns = temp.columns.str.strip()\n",
    "    temp = temp.round(4)\n",
    "    #**********************EXTRACT DATA FROM SECOND URL**********************\n",
    "    temp2 = pd.read_html(url2)\n",
    "    temp2 = temp2[0].dropna(axis=1,how='all')\n",
    "    temp2['Player'] = temp2['Player'].str.replace('*','')\n",
    "    temp2.columns = temp2.columns.str.strip()\n",
    "    temp2 = temp2[temp2.Pos != 'Pos'] #get rid of random header rows\n",
    "    temp2 = temp2.round(4)\n",
    "    #Find intersecting columns\n",
    "    cols = list(np.intersect1d(temp.columns, temp2.columns))\n",
    "    #Remove cols temporarily that don't involve numbers because casting\n",
    "    #will add them back later when doing 'on = cols'\n",
    "    cols.remove('Player')\n",
    "    cols.remove('Tm')\n",
    "    #need to convert cols to float\n",
    "    temp[cols] = temp[cols].astype(float)\n",
    "    temp2[cols] = temp2[cols].astype(float) \n",
    "    \n",
    "    #add qualitative analysis back for on = within merge function\n",
    "    cols.append('Player')\n",
    "    cols.append('Tm')\n",
    "    \n",
    "    #MERGE TEMP AND TEMP2\n",
    "    result = temp.merge(temp2, how='inner', on=cols)\n",
    "    if (year == 1985):\n",
    "        result.to_csv('csv/TEMP1_2.csv')\n",
    "    #**********************EXTRACT DATA FROM THIRD URL**********************\n",
    "    temp3 = pd.read_html(url3)\n",
    "    temp3 = temp3[0].dropna(axis=1, how='all')\n",
    "    temp3 = temp3[temp3.Pos != 'Pos']\n",
    "    temp3['Player'] = temp3['Player'].str.replace('*','')\n",
    "    temp3 = temp3.drop('Rk', 1)\n",
    "    temp3.columns = temp3.columns.str.strip()\n",
    "    temp3 = temp3.rename(columns={\"MP\": \"TOT_MP\"})\n",
    "    temp3 = temp3.round(4)\n",
    "    #Find intersecting columns\n",
    "    cols = list(np.intersect1d(result.columns, temp3.columns))\n",
    "\n",
    "    #Remove cols temporarily that don't involve numbers because casting\n",
    "    #will add them back later when doing 'on = cols'\n",
    "    cols.remove('Player')\n",
    "    cols.remove('Tm')\n",
    "    cols.remove('Pos')\n",
    "    #need to convert cols to float\n",
    "    temp3[cols] = temp3[cols].astype(float) \n",
    "    temp3.to_csv('csv/temp3.csv')\n",
    "    #add qualitative analysis back for on = within merge function\n",
    "    cols.append('Player')\n",
    "    cols.append('Tm')\n",
    "    cols.append('Pos')\n",
    "    result = result.merge(temp3, how='inner', on=cols)\n",
    "    #add to list of data\n",
    "    appended_data.append(result)\n",
    "df = pd.concat(appended_data)\n",
    "#data frame complete"
   ]
  },
  {
   "cell_type": "code",
   "execution_count": 3,
   "metadata": {},
   "outputs": [],
   "source": [
    " saved_df = df #saves df from cell 1 into another df to prevent having to constantly run "
   ]
  },
  {
   "cell_type": "code",
   "execution_count": 4,
   "metadata": {},
   "outputs": [],
   "source": [
    "df = saved_df #move dataframe over "
   ]
  },
  {
   "cell_type": "markdown",
   "metadata": {},
   "source": [
    "df = saved_df"
   ]
  },
  {
   "cell_type": "code",
   "execution_count": 79,
   "metadata": {
    "scrolled": true
   },
   "outputs": [],
   "source": [
    "#grab preseason odds\n",
    "import requests\n",
    "import re\n",
    "from bs4 import BeautifulSoup\n",
    "\n",
    "\n",
    "df.count()\n",
    "df['PRE_ODDS'] = 0\n",
    "#This only works for [1985,2019]. For 2020, we will have to do something else and make a current csv to grab \n",
    "#data for games played to most recent date\n",
    "\n",
    "modify = df.reset_index(drop=True)\n",
    "modify.at[245, 'Tm'] = 'DEN'\n",
    "\n",
    "df = modify\n",
    "for i in range(len(df.index)):\n",
    "    team = df.iloc[i]['Tm']\n",
    "    year = df.iloc[i]['Year']\n",
    "    odds_url = \"https://www.basketball-reference.com/teams/{}/{}.html\".format(team,year)\n",
    "    #print(odds_url)\n",
    "    html = requests.get(odds_url).text\n",
    "    soup = BeautifulSoup(html, \"lxml\")\n",
    "    res = soup.find('a', {\"href\": \"/leagues/NBA_{}_preseason_odds.html\".format(year)} ).text\n",
    "    #df['PRE_ODDS'][i] = re.findall(r'\\d+', res)[0]\n",
    "    df.at[i, 'PRE_ODDS'] = re.findall(r'\\-?\\d+', res)[0]\n",
    "#display(df)\n",
    "df.to_csv('csv/historical_mvp_data.csv')"
   ]
  },
  {
   "cell_type": "code",
   "execution_count": 80,
   "metadata": {},
   "outputs": [],
   "source": [
    "#grabs raptor rankings\n",
    "url = \"https://raw.githubusercontent.com/fivethirtyeight/data/master/nba-raptor/historical_RAPTOR_by_player.csv\"\n",
    "raptor_df = pd.read_csv(url)\n",
    "raptor_df = raptor_df[['player_name', 'season', 'raptor_offense', 'raptor_defense', 'raptor_total']]\n",
    "raptor_df.rename(columns={'player_name' : 'Player', 'season' : 'Year'}, inplace=True)\n",
    "raptor_df['Year'] = raptor_df['Year'].astype(float)\n",
    "raptor_df['Player'] = raptor_df['Player'].str.strip()\n",
    "df['Player'] = df['Player'].str.normalize('NFKD').str.encode('ascii', errors='ignore').str.decode('utf-8')\n",
    "df = df.merge(raptor_df, how='inner', on=['Player','Year'])\n",
    "df.count()\n",
    "df.to_csv('csv/historical_mvp_data.csv')"
   ]
  },
  {
   "cell_type": "code",
   "execution_count": 86,
   "metadata": {},
   "outputs": [
    {
     "data": {
      "text/plain": [
       "Rank                350\n",
       "Year                350\n",
       "MVP                 350\n",
       "Player              350\n",
       "Age                 350\n",
       "                   ... \n",
       "raptor_defense_x    350\n",
       "raptor_total_x      350\n",
       "raptor_offense_y    350\n",
       "raptor_defense_y    350\n",
       "raptor_total_y      350\n",
       "Length: 65, dtype: int64"
      ]
     },
     "execution_count": 86,
     "metadata": {},
     "output_type": "execute_result"
    }
   ],
   "source": [
    "saved_df = df\n",
    "df.count()\n",
    "#df = saved_df"
   ]
  },
  {
   "cell_type": "code",
   "execution_count": 142,
   "metadata": {
    "scrolled": false
   },
   "outputs": [],
   "source": [
    "#dict from team abbreviation to full name\n",
    "url = 'https://en.wikipedia.org/wiki/Wikipedia:WikiProject_National_Basketball_Association/National_Basketball_Association_team_abbreviations'\n",
    "temp = pd.read_html(url)\n",
    "temp = temp[0]\n",
    "team_dict = dict(zip(temp[0], temp[1]))\n",
    "for key, value in team_dict.items():\n",
    "    team_dict[key] = value.split()\n"
   ]
  },
  {
   "cell_type": "code",
   "execution_count": null,
   "metadata": {},
   "outputs": [],
   "source": []
  },
  {
   "cell_type": "code",
   "execution_count": 185,
   "metadata": {},
   "outputs": [
    {
     "name": "stdout",
     "output_type": "stream",
     "text": [
      "<generator object Tag.descendants at 0x7fd340c46f90>\n",
      "<class 'bs4.element.Tag'>\n"
     ]
    },
    {
     "ename": "TypeError",
     "evalue": "expected string or bytes-like object",
     "output_type": "error",
     "traceback": [
      "\u001b[0;31m---------------------------------------------------------------------------\u001b[0m",
      "\u001b[0;31mTypeError\u001b[0m                                 Traceback (most recent call last)",
      "\u001b[0;32m<ipython-input-185-e349721f2677>\u001b[0m in \u001b[0;36m<module>\u001b[0;34m\u001b[0m\n\u001b[1;32m     10\u001b[0m     \u001b[0mprint\u001b[0m\u001b[0;34m(\u001b[0m\u001b[0mres\u001b[0m\u001b[0;34m[\u001b[0m\u001b[0;36m2\u001b[0m\u001b[0;34m]\u001b[0m\u001b[0;34m.\u001b[0m\u001b[0mdescendants\u001b[0m\u001b[0;34m)\u001b[0m\u001b[0;34m\u001b[0m\u001b[0;34m\u001b[0m\u001b[0m\n\u001b[1;32m     11\u001b[0m     \u001b[0mprint\u001b[0m\u001b[0;34m(\u001b[0m\u001b[0mtype\u001b[0m\u001b[0;34m(\u001b[0m\u001b[0mres\u001b[0m\u001b[0;34m[\u001b[0m\u001b[0;36m2\u001b[0m\u001b[0;34m]\u001b[0m\u001b[0;34m)\u001b[0m\u001b[0;34m)\u001b[0m\u001b[0;34m\u001b[0m\u001b[0;34m\u001b[0m\u001b[0m\n\u001b[0;32m---> 12\u001b[0;31m     \u001b[0mdf\u001b[0m\u001b[0;34m.\u001b[0m\u001b[0mat\u001b[0m\u001b[0;34m[\u001b[0m\u001b[0mi\u001b[0m\u001b[0;34m,\u001b[0m \u001b[0;34m'WIN'\u001b[0m\u001b[0;34m]\u001b[0m \u001b[0;34m=\u001b[0m \u001b[0mre\u001b[0m\u001b[0;34m.\u001b[0m\u001b[0mfindall\u001b[0m\u001b[0;34m(\u001b[0m\u001b[0;34mr'\\d+'\u001b[0m\u001b[0;34m,\u001b[0m \u001b[0mres\u001b[0m\u001b[0;34m)\u001b[0m\u001b[0;34m[\u001b[0m\u001b[0;36m0\u001b[0m\u001b[0;34m]\u001b[0m\u001b[0;34m\u001b[0m\u001b[0;34m\u001b[0m\u001b[0m\n\u001b[0m",
      "\u001b[0;32m/Library/Frameworks/Python.framework/Versions/3.8/lib/python3.8/re.py\u001b[0m in \u001b[0;36mfindall\u001b[0;34m(pattern, string, flags)\u001b[0m\n\u001b[1;32m    239\u001b[0m \u001b[0;34m\u001b[0m\u001b[0m\n\u001b[1;32m    240\u001b[0m     Empty matches are included in the result.\"\"\"\n\u001b[0;32m--> 241\u001b[0;31m     \u001b[0;32mreturn\u001b[0m \u001b[0m_compile\u001b[0m\u001b[0;34m(\u001b[0m\u001b[0mpattern\u001b[0m\u001b[0;34m,\u001b[0m \u001b[0mflags\u001b[0m\u001b[0;34m)\u001b[0m\u001b[0;34m.\u001b[0m\u001b[0mfindall\u001b[0m\u001b[0;34m(\u001b[0m\u001b[0mstring\u001b[0m\u001b[0;34m)\u001b[0m\u001b[0;34m\u001b[0m\u001b[0;34m\u001b[0m\u001b[0m\n\u001b[0m\u001b[1;32m    242\u001b[0m \u001b[0;34m\u001b[0m\u001b[0m\n\u001b[1;32m    243\u001b[0m \u001b[0;32mdef\u001b[0m \u001b[0mfinditer\u001b[0m\u001b[0;34m(\u001b[0m\u001b[0mpattern\u001b[0m\u001b[0;34m,\u001b[0m \u001b[0mstring\u001b[0m\u001b[0;34m,\u001b[0m \u001b[0mflags\u001b[0m\u001b[0;34m=\u001b[0m\u001b[0;36m0\u001b[0m\u001b[0;34m)\u001b[0m\u001b[0;34m:\u001b[0m\u001b[0;34m\u001b[0m\u001b[0;34m\u001b[0m\u001b[0m\n",
      "\u001b[0;31mTypeError\u001b[0m: expected string or bytes-like object"
     ]
    }
   ],
   "source": [
    "for i in range(df.shape[0]):\n",
    "    team = df.iloc[i]['Tm']\n",
    "    year = df.iloc[i]['Year']\n",
    "    odds_url = \"https://www.basketball-reference.com/teams/{}/{}.html\".format(team,year)\n",
    "    #print(odds_url)\n",
    "    html = requests.get(odds_url).text\n",
    "    soup = BeautifulSoup(html, \"lxml\")\n",
    "    res = soup.findAll('p')\n",
    "    #df['PRE_ODDS'][i] = re.findall(r'\\d+', res)[0]\n",
    "    print(res[2].descendants)\n",
    "    print(type(res[2]))\n",
    "    df.at[i, 'WIN'] = re.findall(r'\\d+', res)[0]"
   ]
  },
  {
   "cell_type": "code",
   "execution_count": null,
   "metadata": {},
   "outputs": [],
   "source": []
  },
  {
   "cell_type": "code",
   "execution_count": null,
   "metadata": {},
   "outputs": [],
   "source": []
  },
  {
   "cell_type": "code",
   "execution_count": null,
   "metadata": {},
   "outputs": [],
   "source": []
  },
  {
   "cell_type": "code",
   "execution_count": 76,
   "metadata": {},
   "outputs": [],
   "source": []
  },
  {
   "cell_type": "code",
   "execution_count": null,
   "metadata": {},
   "outputs": [],
   "source": []
  },
  {
   "cell_type": "code",
   "execution_count": 75,
   "metadata": {},
   "outputs": [],
   "source": []
  },
  {
   "cell_type": "code",
   "execution_count": 56,
   "metadata": {},
   "outputs": [],
   "source": []
  },
  {
   "cell_type": "code",
   "execution_count": null,
   "metadata": {},
   "outputs": [],
   "source": []
  },
  {
   "cell_type": "code",
   "execution_count": null,
   "metadata": {},
   "outputs": [],
   "source": []
  }
 ],
 "metadata": {
  "kernelspec": {
   "display_name": "Python 3.8.3 64-bit ('venv': venv)",
   "language": "python",
   "name": "python38364bitvenvvenvdf8ac03e91414f69bbb3f0d4fb5e69fc"
  },
  "language_info": {
   "codemirror_mode": {
    "name": "ipython",
    "version": 3
   },
   "file_extension": ".py",
   "mimetype": "text/x-python",
   "name": "python",
   "nbconvert_exporter": "python",
   "pygments_lexer": "ipython3",
   "version": "3.8.3"
  }
 },
 "nbformat": 4,
 "nbformat_minor": 4
}
